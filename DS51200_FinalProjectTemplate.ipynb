{
 "cells": [
  {
   "cell_type": "markdown",
   "id": "45762487-d33f-486d-8e38-2cdea04e3528",
   "metadata": {},
   "source": [
    "# Final Project Report\n",
    "\n",
    "* Class: DS 5100\n",
    "* Student Name: Nicolas Edier\n",
    "* Student Net ID: nnu7hu\n",
    "* This URL: https://github.com/NicolasEdier/DS5100-Final-Project-Package/blob/main/DS51200_FinalProjectTemplate.ipynb"
   ]
  },
  {
   "cell_type": "markdown",
   "id": "acf756c1-ecaa-41dc-b6ca-d566eb94560b",
   "metadata": {},
   "source": [
    "# Instructions\n",
    "\n",
    "Follow the instructions in the Final Project isntructions notebook and put evidence of your work in this notebook.\n",
    "\n",
    "Total points for each subsection under **Deliverables** and **Scenarios** are given in parentheses.\n",
    "\n",
    "Breakdowns of points within subsections are specified within subsection instructions as bulleted lists.\n",
    "\n",
    "This project is worth **50 points**."
   ]
  },
  {
   "cell_type": "markdown",
   "id": "89dc7a32-f682-4402-8c1e-b6ccdb3e0e39",
   "metadata": {},
   "source": [
    "# Deliverables"
   ]
  },
  {
   "cell_type": "markdown",
   "id": "d32cb273-9a40-4909-a7ce-51f6e4958d3c",
   "metadata": {},
   "source": [
    "## The Monte Carlo Module (10)\n",
    "\n",
    "- URL included, appropriately named (1).\n",
    "- Includes all three specified classes (3).\n",
    "- Includes at least all 12 specified methods (6; .5 each)."
   ]
  },
  {
   "cell_type": "markdown",
   "id": "f5f3b070-de9e-4de9-bfae-8974d184aa28",
   "metadata": {},
   "source": [
    "Put the URL to your GitHub repo here.\n",
    "\n",
    "Repo URL: https://github.com/NicolasEdier/DS5100-Final-Project-Package"
   ]
  },
  {
   "cell_type": "markdown",
   "id": "162370fb-3729-4c85-b040-8c25b2c966d2",
   "metadata": {},
   "source": [
    "Paste a copyy of your module here.\n",
    "\n",
    "NOTE: Paste as text, not as code. Use triple backticks to wrap your code blocks."
   ]
  },
  {
   "cell_type": "markdown",
   "id": "aeb28128-4955-4791-9cdd-5ebb34033a7f",
   "metadata": {
    "tags": []
   },
   "source": [
    "import numpy as np\n",
    "\n",
    "import pandas as pd\n",
    "\n",
    "from itertools import permutations, combinations\n",
    "\n",
    "from collections import Counter\n",
    "\n",
    "\n",
    "class Die:\n",
    "\n",
    "    \"\"\"\n",
    "    A class to simulate a die with customizable faces and weights.\n",
    "\n",
    "    Attributes:\n",
    "        _faces (numpy array): The faces of the die.\n",
    "        _weights (pandas DataFrame): A private data frame storing faces and their weights.\n",
    "    \"\"\"\n",
    "\n",
    "    def __init__(self, faces):\n",
    "        \"\"\"\n",
    "        Initialize the die with given faces.\n",
    "\n",
    "        Args:\n",
    "            faces (numpy array): A NumPy array of distinct face values (strings or numbers).\n",
    "\n",
    "        Raises:\n",
    "            TypeError: If `faces` is not a NumPy array.\n",
    "            ValueError: If `faces` contains duplicate values.\n",
    "        \"\"\"\n",
    "        if not isinstance(faces, np.ndarray):\n",
    "            raise TypeError(\"Faces must be a NumPy array.\")\n",
    "        if len(faces) != len(set(faces)):\n",
    "            raise ValueError(\"Faces must be distinct.\")\n",
    "        self._weights = pd.DataFrame({'face': faces, 'weight': 1.0}).set_index('face')\n",
    "\n",
    "    def change_weight(self, face, weight):\n",
    "        \"\"\"\n",
    "        Change the weight of a specific face.\n",
    "\n",
    "        Args:\n",
    "            face: The face value whose weight is to be changed.\n",
    "            weight (float): The new weight to assign to the face.\n",
    "\n",
    "        Raises:\n",
    "            IndexError: If the face is not a valid die face.\n",
    "            TypeError: If weight is not numeric.\n",
    "        \"\"\"\n",
    "        if face not in self._weights.index:\n",
    "            raise IndexError(\"Face not found in die.\")\n",
    "        try:\n",
    "            weight = float(weight)\n",
    "        except ValueError:\n",
    "            raise TypeError(\"Weight must be numeric.\")\n",
    "        self._weights.at[face, 'weight'] = weight\n",
    "\n",
    "    def roll(self, times=1):\n",
    "        \"\"\"\n",
    "        Roll the die one or more times.\n",
    "\n",
    "        Args:\n",
    "            times (int): The number of times to roll the die. Defaults to 1.\n",
    "\n",
    "        Returns:\n",
    "            list: A list of rolled face values.\n",
    "        \"\"\"\n",
    "        return list(self._weights.sample(n=times, weights='weight', replace=True).index)\n",
    "\n",
    "    def show(self):\n",
    "        \"\"\"\n",
    "        Show the current state of the die.\n",
    "\n",
    "        Returns:\n",
    "            pandas DataFrame: A copy of the data frame with faces and weights.\n",
    "        \"\"\"\n",
    "        return self._weights.copy()\n",
    "       \n",
    "\n",
    "class Game:\n",
    "\n",
    "    \"\"\"\n",
    "    A class to simulate a game involving one or more similar dice.\n",
    "\n",
    "    Attributes:\n",
    "        _dice (list): A list of Die objects.\n",
    "        _results (pandas DataFrame): A private data frame storing the results of the most recent play.\n",
    "    \"\"\"\n",
    "\n",
    "    def __init__(self, dice):\n",
    "        \"\"\"\n",
    "        Initialize the game with a list of dice.\n",
    "\n",
    "        Args:\n",
    "            dice (list): A list of Die objects.\n",
    "        \"\"\"\n",
    "        self._dice = dice\n",
    "        self._results = pd.DataFrame()\n",
    "\n",
    "    def play(self, rolls):\n",
    "        \"\"\"\n",
    "        Play the game by rolling all dice a specified number of times.\n",
    "\n",
    "        Args:\n",
    "            rolls (int): The number of times to roll the dice.\n",
    "        \"\"\"\n",
    "        results = {f\"Die_{i}\": die.roll(rolls) for i, die in enumerate(self._dice)}\n",
    "        self._results = pd.DataFrame(results)\n",
    "\n",
    "    def show(self, form=\"wide\"):\n",
    "        \"\"\"\n",
    "        Show the results of the most recent play.\n",
    "\n",
    "        Args:\n",
    "            form (str): The format of the results ('wide' or 'narrow'). Defaults to 'wide'.\n",
    "\n",
    "        Returns:\n",
    "            pandas DataFrame: The results in the specified format.\n",
    "\n",
    "        Raises:\n",
    "            ValueError: If the form is not 'wide' or 'narrow'.\n",
    "        \"\"\"\n",
    "        if form == \"wide\":\n",
    "            return self._results.copy()\n",
    "        elif form == \"narrow\":\n",
    "            return self._results.stack().to_frame(\"face\").reset_index(names=[\"roll\", \"die\"])\n",
    "        else:\n",
    "            raise ValueError(\"Form must be 'wide' or 'narrow'.\")\n",
    "\n",
    "\n",
    "class Analyzer:\n",
    "\n",
    "    \"\"\"\n",
    "    A class to analyze the results of a game.\n",
    "\n",
    "    Attributes:\n",
    "        _game (Game): The game object to analyze.\n",
    "        _results (pandas DataFrame): The results of the most recent game play.\n",
    "    \"\"\"\n",
    "\n",
    "    def __init__(self, game):\n",
    "        \"\"\"\n",
    "        Initialize the analyzer with a game object.\n",
    "\n",
    "        Args:\n",
    "            game (Game): The game object.\n",
    "\n",
    "        Raises:\n",
    "            ValueError: If the input is not a Game object.\n",
    "        \"\"\"\n",
    "        if not isinstance(game, Game):\n",
    "            raise ValueError(\"Input must be a Game object.\")\n",
    "        self._game = game\n",
    "        self._results = game.show()\n",
    "\n",
    "    def jackpot(self):\n",
    "        \"\"\"\n",
    "        Compute the number of jackpots (all faces the same) in the game results.\n",
    "\n",
    "        Returns:\n",
    "            int: The number of jackpots.\n",
    "        \"\"\"\n",
    "        return int(self._results.apply(lambda row: len(set(row)) == 1, axis=1).sum())\n",
    "\n",
    "    def face_counts_per_roll(self):\n",
    "        \"\"\"\n",
    "        Compute the face counts for each roll.\n",
    "\n",
    "        Returns:\n",
    "            pandas DataFrame: A data frame with face counts for each roll.\n",
    "        \"\"\"\n",
    "        return self._results.apply(lambda row: row.value_counts(), axis=1).fillna(0).astype(int)\n",
    "\n",
    "    def combo_counts(self):\n",
    "        \"\"\"\n",
    "        Compute the counts of distinct combinations of faces rolled.\n",
    "\n",
    "        Returns:\n",
    "            pandas DataFrame: A data frame of combinations and their counts.\n",
    "        \"\"\"\n",
    "        combos = self._results.apply(lambda row: tuple(sorted(row)), axis=1)\n",
    "        return pd.DataFrame.from_dict(Counter(combos), orient='index', columns=['count'])\n",
    "\n",
    "    def permutation_counts(self):\n",
    "        \"\"\"\n",
    "        Compute the counts of distinct permutations of faces rolled.\n",
    "\n",
    "        Returns:\n",
    "            pandas DataFrame: A data frame of permutations and their counts.\n",
    "        \"\"\"\n",
    "        perms = self._results.apply(lambda row: tuple(row), axis=1)\n",
    "        return pd.DataFrame.from_dict(Counter(perms), orient='index', columns=['count'])"
   ]
  },
  {
   "cell_type": "markdown",
   "id": "6377727a-8f0a-491e-9f1c-d9dc225edd35",
   "metadata": {},
   "source": [
    "## Unitest Module (2)\n",
    "\n",
    "Paste a copy of your test module below.\n",
    "\n",
    "NOTE: Paste as text, not as code. Use triple backticks to wrap your code blocks.\n",
    "\n",
    "- All methods have at least one test method (1).\n",
    "- Each method employs one of Unittest's Assert methods (1)."
   ]
  },
  {
   "cell_type": "markdown",
   "id": "263170ef-4837-4da4-b629-517d3e2c83a1",
   "metadata": {
    "tags": []
   },
   "source": [
    "import unittest\n",
    "\n",
    "import numpy as np\n",
    "\n",
    "import pandas as pd\n",
    "\n",
    "from Final.Final import Die, Game, Analyzer\n",
    "\n",
    "\n",
    "class TestDie(unittest.TestCase):\n",
    "\n",
    "    def test_die_initializer_valid(self):\n",
    "        faces = np.array([1, 2, 3, 4, 5, 6])\n",
    "        die = Die(faces)\n",
    "        self.assertEqual(list(die.show().index), [1, 2, 3, 4, 5, 6])\n",
    "        self.assertTrue((die.show()['weight'] == 1.0).all())\n",
    "    \n",
    "    def setUp(self):\n",
    "        self.die = Die(np.array(['A', 'B', 'C']))\n",
    "\n",
    "    def test_change_weight(self):\n",
    "        self.die.change_weight('A', 2.0)\n",
    "        self.assertEqual(self.die.show().at['A', 'weight'], 2.0)\n",
    "\n",
    "    def test_roll(self):\n",
    "        result = self.die.roll(5)\n",
    "        self.assertEqual(len(result), 5)\n",
    "\n",
    "    def test_show(self):\n",
    "        self.assertEqual(len(self.die.show()), 3)\n",
    "\n",
    "\n",
    "class TestGame(unittest.TestCase):\n",
    "\n",
    "    def test_game_initializer_valid(self):\n",
    "        dice = [Die(np.array([1, 2, 3])), Die(np.array(['a', 'b', 'c']))]\n",
    "        game = Game(dice)\n",
    "        self.assertEqual(len(game._dice), 2)\n",
    "        self.assertIsInstance(game._dice[0], Die)\n",
    "        self.assertIsInstance(game._dice[1], Die)\n",
    "        \n",
    "    def setUp(self):\n",
    "        self.dice = [Die(np.array(['A', 'B', 'C'])) for _ in range(3)]\n",
    "        self.game = Game(self.dice)\n",
    "\n",
    "    def test_play(self):\n",
    "        self.game.play(5)\n",
    "        self.assertEqual(self.game.show().shape[0], 5)\n",
    "\n",
    "    def test_show(self):\n",
    "        self.game.play(5)\n",
    "        self.assertEqual(self.game.show(\"wide\").shape[0], 5)\n",
    "\n",
    "\n",
    "class TestAnalyzer(unittest.TestCase):\n",
    "\n",
    "    def test_analyzer_initializer_valid(self):\n",
    "        dice = [Die(np.array([1, 2, 3])), Die(np.array(['a', 'b', 'c']))]\n",
    "        game = Game(dice)\n",
    "        game.play(5)\n",
    "        analyzer = Analyzer(game)\n",
    "        self.assertTrue(isinstance(analyzer._results, pd.DataFrame))\n",
    "        self.assertEqual(analyzer._results.shape[0], 5)\n",
    "    \n",
    "    def setUp(self):\n",
    "        dice = [Die(np.array(['A', 'B', 'C'])) for _ in range(2)]\n",
    "        game = Game(dice)\n",
    "        game.play(10)\n",
    "        self.analyzer = Analyzer(game)\n",
    "\n",
    "    def test_jackpot(self):\n",
    "        self.assertIsInstance(self.analyzer.jackpot(), int)\n",
    "\n",
    "    def test_face_counts_per_roll(self):\n",
    "        result = self.analyzer.face_counts_per_roll()\n",
    "        self.assertTrue(isinstance(result, pd.DataFrame))\n",
    "\n",
    "    def test_combo_counts(self):\n",
    "        result = self.analyzer.combo_counts()\n",
    "        self.assertTrue(isinstance(result, pd.DataFrame))\n",
    "\n",
    "    def test_permutation_counts(self):\n",
    "        result = self.analyzer.permutation_counts()\n",
    "        self.assertTrue(isinstance(result, pd.DataFrame))\n",
    "\n",
    "\n",
    "if __name__ == \"__main__\":\n",
    "\n",
    "    with open(\"test_results.txt\", \"w\") as f:\n",
    "        runner = unittest.TextTestRunner(stream=f, verbosity=2)\n",
    "        unittest.main(testRunner=runner, exit=False)"
   ]
  },
  {
   "cell_type": "markdown",
   "id": "3e058d03-29bc-408f-b36d-0605b4f4b8c0",
   "metadata": {
    "tags": []
   },
   "source": [
    "## Unittest Results (3)\n",
    "\n",
    "Put a copy of the results of running your tests from the command line here.\n",
    "\n",
    "Again, paste as text using triple backticks.\n",
    "\n",
    "- All 12 specified methods return OK (3; .25 each)."
   ]
  },
  {
   "cell_type": "markdown",
   "id": "19cc375e-d42d-42e2-98e9-d7727a637380",
   "metadata": {
    "tags": []
   },
   "source": [
    "test_analyzer_initializer_valid (__main__.TestAnalyzer) ... ok\n",
    "\n",
    "test_combo_counts (__main__.TestAnalyzer) ... ok\n",
    "\n",
    "test_face_counts_per_roll (__main__.TestAnalyzer) ... ok\n",
    "\n",
    "test_jackpot (__main__.TestAnalyzer) ... ok\n",
    "\n",
    "test_permutation_counts (__main__.TestAnalyzer) ... ok\n",
    "\n",
    "test_change_weight (__main__.TestDie) ... ok\n",
    "\n",
    "test_die_initializer_valid (__main__.TestDie) ... ok\n",
    "\n",
    "test_roll (__main__.TestDie) ... ok\n",
    "\n",
    "test_show (__main__.TestDie) ... ok\n",
    "\n",
    "test_game_initializer_valid (__main__.TestGame) ... ok\n",
    "\n",
    "test_play (__main__.TestGame) ... ok\n",
    "\n",
    "test_show (__main__.TestGame) ... ok\n",
    "\n",
    "----------------------------------------------------------------------\n",
    "Ran 12 tests in 0.065s\n",
    "\n",
    "OK"
   ]
  },
  {
   "cell_type": "markdown",
   "id": "d9ffe8c5-eb2f-4ad1-af76-a46550e4c7ac",
   "metadata": {},
   "source": [
    "## Import (1)\n",
    "\n",
    "Import your module here. This import should refer to the code in your package directory.\n",
    "\n",
    "- Module successuflly imported (1)."
   ]
  },
  {
   "cell_type": "code",
   "execution_count": 14,
   "id": "a05dffb3-e6d6-4f78-9df4-5abd0cf74ca9",
   "metadata": {
    "tags": []
   },
   "outputs": [],
   "source": [
    "from Final.Final import Die, Game, Analyzer"
   ]
  },
  {
   "cell_type": "markdown",
   "id": "f30c4842-65b1-4556-98b6-3fe1a07e1371",
   "metadata": {},
   "source": [
    "## Help Docs (4)\n",
    "\n",
    "Show your docstring documentation by applying `help()` to your imported module.\n",
    "\n",
    "- All methods have a docstring (3; .25 each).\n",
    "- All classes have a docstring (1; .33 each)."
   ]
  },
  {
   "cell_type": "code",
   "execution_count": 15,
   "id": "bf4fbf1f-9885-471c-a0a6-e9ca90e160de",
   "metadata": {
    "tags": []
   },
   "outputs": [
    {
     "name": "stdout",
     "output_type": "stream",
     "text": [
      "Help on class Die in module Final.Final:\n",
      "\n",
      "class Die(builtins.object)\n",
      " |  Die(faces)\n",
      " |  \n",
      " |  A class to simulate a die with customizable faces and weights.\n",
      " |  \n",
      " |  Attributes:\n",
      " |      _faces (numpy array): The faces of the die.\n",
      " |      _weights (pandas DataFrame): A private data frame storing faces and their weights.\n",
      " |  \n",
      " |  Methods defined here:\n",
      " |  \n",
      " |  __init__(self, faces)\n",
      " |      Initialize the die with given faces.\n",
      " |      \n",
      " |      Args:\n",
      " |          faces (numpy array): A NumPy array of distinct face values (strings or numbers).\n",
      " |      \n",
      " |      Raises:\n",
      " |          TypeError: If `faces` is not a NumPy array.\n",
      " |          ValueError: If `faces` contains duplicate values.\n",
      " |  \n",
      " |  change_weight(self, face, weight)\n",
      " |      Change the weight of a specific face.\n",
      " |      \n",
      " |      Args:\n",
      " |          face: The face value whose weight is to be changed.\n",
      " |          weight (float): The new weight to assign to the face.\n",
      " |      \n",
      " |      Raises:\n",
      " |          IndexError: If the face is not a valid die face.\n",
      " |          TypeError: If weight is not numeric.\n",
      " |  \n",
      " |  roll(self, times=1)\n",
      " |      Roll the die one or more times.\n",
      " |      \n",
      " |      Args:\n",
      " |          times (int): The number of times to roll the die. Defaults to 1.\n",
      " |      \n",
      " |      Returns:\n",
      " |          list: A list of rolled face values.\n",
      " |  \n",
      " |  show(self)\n",
      " |      Show the current state of the die.\n",
      " |      \n",
      " |      Returns:\n",
      " |          pandas DataFrame: A copy of the data frame with faces and weights.\n",
      " |  \n",
      " |  ----------------------------------------------------------------------\n",
      " |  Data descriptors defined here:\n",
      " |  \n",
      " |  __dict__\n",
      " |      dictionary for instance variables (if defined)\n",
      " |  \n",
      " |  __weakref__\n",
      " |      list of weak references to the object (if defined)\n",
      "\n",
      "Help on class Game in module Final.Final:\n",
      "\n",
      "class Game(builtins.object)\n",
      " |  Game(dice)\n",
      " |  \n",
      " |  A class to simulate a game involving one or more similar dice.\n",
      " |  \n",
      " |  Attributes:\n",
      " |      _dice (list): A list of Die objects.\n",
      " |      _results (pandas DataFrame): A private data frame storing the results of the most recent play.\n",
      " |  \n",
      " |  Methods defined here:\n",
      " |  \n",
      " |  __init__(self, dice)\n",
      " |      Initialize the game with a list of dice.\n",
      " |      \n",
      " |      Args:\n",
      " |          dice (list): A list of Die objects.\n",
      " |  \n",
      " |  play(self, rolls)\n",
      " |      Play the game by rolling all dice a specified number of times.\n",
      " |      \n",
      " |      Args:\n",
      " |          rolls (int): The number of times to roll the dice.\n",
      " |  \n",
      " |  show(self, form='wide')\n",
      " |      Show the results of the most recent play.\n",
      " |      \n",
      " |      Args:\n",
      " |          form (str): The format of the results ('wide' or 'narrow'). Defaults to 'wide'.\n",
      " |      \n",
      " |      Returns:\n",
      " |          pandas DataFrame: The results in the specified format.\n",
      " |      \n",
      " |      Raises:\n",
      " |          ValueError: If the form is not 'wide' or 'narrow'.\n",
      " |  \n",
      " |  ----------------------------------------------------------------------\n",
      " |  Data descriptors defined here:\n",
      " |  \n",
      " |  __dict__\n",
      " |      dictionary for instance variables (if defined)\n",
      " |  \n",
      " |  __weakref__\n",
      " |      list of weak references to the object (if defined)\n",
      "\n",
      "Help on class Analyzer in module Final.Final:\n",
      "\n",
      "class Analyzer(builtins.object)\n",
      " |  Analyzer(game)\n",
      " |  \n",
      " |  A class to analyze the results of a game.\n",
      " |  \n",
      " |  Attributes:\n",
      " |      _game (Game): The game object to analyze.\n",
      " |      _results (pandas DataFrame): The results of the most recent game play.\n",
      " |  \n",
      " |  Methods defined here:\n",
      " |  \n",
      " |  __init__(self, game)\n",
      " |      Initialize the analyzer with a game object.\n",
      " |      \n",
      " |      Args:\n",
      " |          game (Game): The game object.\n",
      " |      \n",
      " |      Raises:\n",
      " |          ValueError: If the input is not a Game object.\n",
      " |  \n",
      " |  combo_counts(self)\n",
      " |      Compute the counts of distinct combinations of faces rolled.\n",
      " |      \n",
      " |      Returns:\n",
      " |          pandas DataFrame: A data frame of combinations and their counts.\n",
      " |  \n",
      " |  face_counts_per_roll(self)\n",
      " |      Compute the face counts for each roll.\n",
      " |      \n",
      " |      Returns:\n",
      " |          pandas DataFrame: A data frame with face counts for each roll.\n",
      " |  \n",
      " |  jackpot(self)\n",
      " |      Compute the number of jackpots (all faces the same) in the game results.\n",
      " |      \n",
      " |      Returns:\n",
      " |          int: The number of jackpots.\n",
      " |  \n",
      " |  permutation_counts(self)\n",
      " |      Compute the counts of distinct permutations of faces rolled.\n",
      " |      \n",
      " |      Returns:\n",
      " |          pandas DataFrame: A data frame of permutations and their counts.\n",
      " |  \n",
      " |  ----------------------------------------------------------------------\n",
      " |  Data descriptors defined here:\n",
      " |  \n",
      " |  __dict__\n",
      " |      dictionary for instance variables (if defined)\n",
      " |  \n",
      " |  __weakref__\n",
      " |      list of weak references to the object (if defined)\n",
      "\n"
     ]
    }
   ],
   "source": [
    "help(Die)\n",
    "help(Game)\n",
    "help(Analyzer)"
   ]
  },
  {
   "cell_type": "markdown",
   "id": "a9defa84-b395-4966-bd1c-5c6c2bb7ed68",
   "metadata": {},
   "source": [
    "## `README.md` File (3)\n",
    "\n",
    "Provide link to the README.md file of your project's repo.\n",
    "\n",
    "- Metadata section or info present (1).\n",
    "- Synopsis section showing how each class is called (1). (All must be included.)\n",
    "- API section listing all classes and methods (1). (All must be included.)"
   ]
  },
  {
   "cell_type": "markdown",
   "id": "ee090b33-d593-48a0-bf35-e739cea0942c",
   "metadata": {},
   "source": [
    "URL: https://github.com/NicolasEdier/DS5100-Final-Project-Package/blob/main/README.md"
   ]
  },
  {
   "cell_type": "markdown",
   "id": "108604c8-8827-42ef-ab59-6b25428fc0ca",
   "metadata": {
    "tags": []
   },
   "source": [
    "## Successful installation (2)\n",
    "\n",
    "Put a screenshot or paste a copy of a terminal session where you successfully install your module with pip.\n",
    "\n",
    "If pasting text, use a preformatted text block to show the results.\n",
    "\n",
    "- Installed with `pip` (1).\n",
    "- Successfully installed message appears (1)."
   ]
  },
  {
   "cell_type": "markdown",
   "id": "8da40bb1-6366-4d8d-850c-d58843dd6416",
   "metadata": {
    "tags": []
   },
   "source": [
    "-bash-4.4$pip install .\n",
    "\n",
    "Defaulting to user installation because normal site-packages is not writeable\n",
    "\n",
    "Processing /sfs/gpfs/tardis/home/nnu7hu/Documents/MSDS/DS5100/DS5100-nnu7hu/lessons/Final-Project/DS5100-Final-Project-Package\n",
    "\n",
    "      Preparing metadata (setup.py) ... done\n",
    "  \n",
    "Using legacy 'setup.py install' for Final, since package 'wheel' is not installed.\n",
    "\n",
    "Installing collected packages: Final\n",
    "\n",
    "  Attempting uninstall: Final\n",
    "  \n",
    "    Found existing installation: Final 0.1\n",
    "    \n",
    "    Uninstalling Final-0.1:\n",
    "    \n",
    "      Successfully uninstalled Final-0.1\n",
    "      \n",
    "    Running setup.py install for Final ... done\n",
    "    \n",
    "Successfully installed Final-0.1"
   ]
  },
  {
   "cell_type": "markdown",
   "id": "7c44695d-d1b3-4edf-9f94-e64d7446f199",
   "metadata": {},
   "source": [
    "# Scenarios\n",
    "\n",
    "Use code blocks to perform the tasks for each scenario.\n",
    "\n",
    "Be sure the outputs are visible before submitting."
   ]
  },
  {
   "cell_type": "code",
   "execution_count": 33,
   "id": "2cc94374-12f3-4170-ad7d-4978e6182edd",
   "metadata": {
    "tags": []
   },
   "outputs": [],
   "source": [
    "import matplotlib.pyplot as plt\n",
    "import numpy as np\n",
    "import pandas as pd\n",
    "from itertools import permutations, combinations\n",
    "from collections import Counter"
   ]
  },
  {
   "cell_type": "markdown",
   "id": "e2479eae-6fc9-44cd-b8d7-9b22cb501f2a",
   "metadata": {
    "tags": []
   },
   "source": [
    "## Scenario 1: A 2-headed Coin (9)\n",
    "\n",
    "Task 1. Create a fair coin (with faces $H$ and $T$) and one unfair coin in which one of the faces has a weight of $5$ and the others $1$.\n",
    "\n",
    "- Fair coin created (1).\n",
    "- Unfair coin created with weight as specified (1)."
   ]
  },
  {
   "cell_type": "code",
   "execution_count": 34,
   "id": "55ce498e-c75f-4425-9e3e-b635bd6cd9e1",
   "metadata": {},
   "outputs": [],
   "source": [
    "fair_coin = Die(np.array(['H', 'T']))\n",
    "unfair_coin = Die(np.array(['H', 'T']))\n",
    "unfair_coin.change_weight('H', 5)"
   ]
  },
  {
   "cell_type": "markdown",
   "id": "02b272ab-99da-4b6e-ac2a-555b73e09c07",
   "metadata": {},
   "source": [
    "Task 2. Play a game of $1000$ flips with two fair dice.\n",
    "\n",
    "- Play method called correclty and without error (1)."
   ]
  },
  {
   "cell_type": "code",
   "execution_count": 35,
   "id": "65c92601-d32d-4326-b215-74953aee27f2",
   "metadata": {},
   "outputs": [],
   "source": [
    "game1 = Game([fair_coin, fair_coin])\n",
    "game1.play(1000)"
   ]
  },
  {
   "cell_type": "markdown",
   "id": "7d9c3dc8-22c1-4cae-81fb-d68d774a05d1",
   "metadata": {},
   "source": [
    "Task 3. Play another game (using a new Game object) of $1000$ flips, this time using two unfair dice and one fair die. For the second unfair die, you can use the same die object twice in the list of dice you pass to the Game object.\n",
    "\n",
    "- New game object created (1).\n",
    "- Play method called correclty and without error (1)."
   ]
  },
  {
   "cell_type": "code",
   "execution_count": 36,
   "id": "d4098bed-1eb2-4084-8d5e-9fda07c3be43",
   "metadata": {},
   "outputs": [],
   "source": [
    "game2 = Game([unfair_coin, unfair_coin, fair_coin])\n",
    "game2.play(1000)"
   ]
  },
  {
   "cell_type": "markdown",
   "id": "f690ebfc-fe71-4eb2-976d-7ac80ca6c23f",
   "metadata": {},
   "source": [
    "Task 4. For each game, use an Analyzer object to determine the raw frequency of jackpots — i.e. getting either all $H$s or all $T$s.\n",
    "\n",
    "- Analyzer objecs instantiated for both games (1).\n",
    "- Raw frequencies reported for both (1)."
   ]
  },
  {
   "cell_type": "code",
   "execution_count": 37,
   "id": "b26b8b7e-3be7-4476-a9a4-37d97536729e",
   "metadata": {},
   "outputs": [
    {
     "name": "stdout",
     "output_type": "stream",
     "text": [
      "494\n",
      "382\n"
     ]
    }
   ],
   "source": [
    "analyzer1 = Analyzer(game1)\n",
    "analyzer2 = Analyzer(game2)\n",
    "\n",
    "jackpot1 = analyzer1.jackpot()\n",
    "jackpot2 = analyzer2.jackpot()\n",
    "\n",
    "print(jackpot1)\n",
    "print(jackpot2)"
   ]
  },
  {
   "cell_type": "markdown",
   "id": "b73d233c-445e-40cd-8858-0c5e1f097105",
   "metadata": {},
   "source": [
    "Task 5. For each analyzer, compute relative frequency as the number of jackpots over the total number of rolls.\n",
    "\n",
    "- Both relative frequencies computed (1)."
   ]
  },
  {
   "cell_type": "code",
   "execution_count": 38,
   "id": "9a96b31b-1b9d-496e-be3e-4bf83c45ec3a",
   "metadata": {},
   "outputs": [],
   "source": [
    "relative_frequency1 = jackpot1 / 1000\n",
    "relative_frequency2 = jackpot2 / 1000"
   ]
  },
  {
   "cell_type": "markdown",
   "id": "a6e1e734-7f5c-4721-8ba4-2f3a424cf984",
   "metadata": {},
   "source": [
    "Task 6. Show your results, comparing the two relative frequencies, in a simple bar chart.\n",
    "\n",
    "- Bar chart plotted and correct (1)."
   ]
  },
  {
   "cell_type": "code",
   "execution_count": 39,
   "id": "473fa67c-aa53-4aa3-a0b7-e8772b3f6ed3",
   "metadata": {},
   "outputs": [
    {
     "data": {
      "image/png": "[encoded data removed]",
      "text/plain": [
       "<Figure size 640x480 with 1 Axes>"
      ]
     },
     "metadata": {},
     "output_type": "display_data"
    }
   ],
   "source": [
    "plt.bar(['Game 1 (Fair Dice)', 'Game 2 (Mixed Dice)'], \n",
    "        [relative_frequency1, relative_frequency2], color=['blue', 'red'])\n",
    "plt.ylabel('Relative Frequency of Jackpots')\n",
    "plt.title('Comparison of Jackpot Frequencies')\n",
    "plt.show()"
   ]
  },
  {
   "cell_type": "markdown",
   "id": "725cfa5b-e4b7-47c9-86aa-8d9e1fe6c8c7",
   "metadata": {},
   "source": [
    "## Scenario 2: A 6-sided Die (9)\n",
    "\n",
    "Task 1. Create three dice, each with six sides having the faces 1 through 6.\n",
    "\n",
    "- Three die objects created (1)."
   ]
  },
  {
   "cell_type": "code",
   "execution_count": 40,
   "id": "6a8bc611-325a-4e05-88d5-980e0a2cf7c5",
   "metadata": {},
   "outputs": [],
   "source": [
    "die1 = Die(np.array([1, 2, 3, 4, 5, 6]))\n",
    "die2 = Die(np.array([1, 2, 3, 4, 5, 6]))\n",
    "die3 = Die(np.array([1, 2, 3, 4, 5, 6]))"
   ]
  },
  {
   "cell_type": "markdown",
   "id": "2ed3ad26-fbe9-43bd-9ad7-f683a4191d12",
   "metadata": {},
   "source": [
    "Task 2. Convert one of the dice to an unfair one by weighting the face $6$ five times more than the other weights (i.e. it has weight of 5 and the others a weight of 1 each).\n",
    "\n",
    "- Unfair die created with proper call to weight change method (1)."
   ]
  },
  {
   "cell_type": "code",
   "execution_count": 41,
   "id": "e33dd18f-7f90-456d-a680-61c08a328e21",
   "metadata": {},
   "outputs": [],
   "source": [
    "die2.change_weight(6, 5)"
   ]
  },
  {
   "cell_type": "markdown",
   "id": "7f6c062a-4c5b-45b9-96b8-76a0354c7e47",
   "metadata": {},
   "source": [
    "Task 3. Convert another of the dice to be unfair by weighting the face $1$ five times more than the others.\n",
    "\n",
    "- Unfair die created with proper call to weight change method (1)."
   ]
  },
  {
   "cell_type": "code",
   "execution_count": 42,
   "id": "01133a4e-6b06-4246-8d90-8e6d6995be51",
   "metadata": {},
   "outputs": [],
   "source": [
    "die3.change_weight(1, 5)"
   ]
  },
  {
   "cell_type": "markdown",
   "id": "f0ed31cb-0a3c-4eb2-b85e-6ed6b2eb6e58",
   "metadata": {},
   "source": [
    "Task 4. Play a game of $10000$ rolls with $5$ fair dice.\n",
    "\n",
    "- Game class properly instantiated (1). \n",
    "- Play method called properly (1)."
   ]
  },
  {
   "cell_type": "code",
   "execution_count": 43,
   "id": "e92395a4-9ed8-4cb0-8c85-38768a784ffc",
   "metadata": {},
   "outputs": [],
   "source": [
    "game3 = Game([die1, die1, die1, die1, die1])\n",
    "game3.play(10000)"
   ]
  },
  {
   "cell_type": "markdown",
   "id": "7814b402-46a4-40e5-8141-20e05c3e646b",
   "metadata": {},
   "source": [
    "Task 5. Play another game of $10000$ rolls, this time with $2$ unfair dice, one as defined in steps #2 and #3 respectively, and $3$ fair dice.\n",
    "\n",
    "- Game class properly instantiated (1). \n",
    "- Play method called properly (1)."
   ]
  },
  {
   "cell_type": "code",
   "execution_count": 44,
   "id": "7cd58fba-b2a5-4d5d-bc6d-2a7a68d18c4f",
   "metadata": {},
   "outputs": [],
   "source": [
    "game4 = Game([die2, die3, die1, die1, die1])\n",
    "game4.play(10000)"
   ]
  },
  {
   "cell_type": "markdown",
   "id": "7b6cd372-2bb8-4df8-ade1-8f48bc300955",
   "metadata": {},
   "source": [
    "Task 6. For each game, use an Analyzer object to determine the relative frequency of jackpots and show your results, comparing the two relative frequencies, in a simple bar chart.\n",
    "\n",
    "- Jackpot methods called (1).\n",
    "- Graph produced (1)."
   ]
  },
  {
   "cell_type": "code",
   "execution_count": 45,
   "id": "bbdcf695-8937-406e-9b53-aa0b9ee3c59a",
   "metadata": {},
   "outputs": [
    {
     "data": {
      "image/png": "[encoded data removed]",
      "text/plain": [
       "<Figure size 640x480 with 1 Axes>"
      ]
     },
     "metadata": {},
     "output_type": "display_data"
    }
   ],
   "source": [
    "analyzer3 = Analyzer(game3)\n",
    "analyzer4 = Analyzer(game4)\n",
    "\n",
    "relative_frequency3 = analyzer3.jackpot() / 10000\n",
    "relative_frequency4 = analyzer4.jackpot() / 10000\n",
    "\n",
    "plt.bar(['Game 3 (Fair Dice)', 'Game 4 (Mixed Dice)'], \n",
    "        [relative_frequency3, relative_frequency4], color=['green', 'orange'])\n",
    "plt.ylabel('Relative Frequency of Jackpots')\n",
    "plt.title('Comparison of Jackpot Frequencies (6-Sided Dice)')\n",
    "plt.show()"
   ]
  },
  {
   "cell_type": "markdown",
   "id": "9f04e9be-8fcf-4ea4-a391-6614608285f8",
   "metadata": {},
   "source": [
    "## Scenario 3: Letters of the Alphabet (7)\n",
    "\n",
    "Task 1. Create a \"die\" of letters from $A$ to $Z$ with weights based on their frequency of usage as found in the data file `english_letters.txt`. Use the frequencies (i.e. raw counts) as weights.\n",
    "\n",
    "- Die correctly instantiated with source file data (1).\n",
    "- Weights properly applied using weight setting method (1)."
   ]
  },
  {
   "cell_type": "code",
   "execution_count": 50,
   "id": "b0ceb771-3cdf-4d8f-8c2c-020806bbb909",
   "metadata": {},
   "outputs": [],
   "source": [
    "letter_frequencies = pd.read_csv('english_letters.txt', delim_whitespace=True, header=None, names=['Letter', 'Frequency'])\n",
    "alphabet_die = Die(letter_frequencies['Letter'].to_numpy())\n",
    "\n",
    "for _, row in letter_frequencies.iterrows():\n",
    "    alphabet_die.change_weight(row['Letter'], row['Frequency'])"
   ]
  },
  {
   "cell_type": "markdown",
   "id": "88e2e14a-6223-470a-a2c8-bca1120d7a5b",
   "metadata": {},
   "source": [
    "Task 2. Play a game involving $4$ of these dice with $1000$ rolls.\n",
    "\n",
    "- Game play method properly called (1)."
   ]
  },
  {
   "cell_type": "code",
   "execution_count": 51,
   "id": "2ae087cc-936d-4f1e-bddb-a7c179d139e0",
   "metadata": {},
   "outputs": [],
   "source": [
    "game5 = Game([alphabet_die, alphabet_die, alphabet_die, alphabet_die])\n",
    "game5.play(1000)"
   ]
  },
  {
   "cell_type": "markdown",
   "id": "3b9ff800-bf1f-4f66-9d7f-ff57a648e9f0",
   "metadata": {},
   "source": [
    "Task 3. Determine how many permutations in your results are actual English words, based on the vocabulary found in `scrabble_words.txt`.\n",
    "\n",
    "- Use permutation method (1).\n",
    "- Get count as difference between permutations and vocabulary (1)."
   ]
  },
  {
   "cell_type": "code",
   "execution_count": 52,
   "id": "ed1c7fa0-cfa3-4cf4-9fd0-9f84b86b0f64",
   "metadata": {},
   "outputs": [],
   "source": [
    "perms = Analyzer(game5).permutation_counts()\n",
    "scrabble_words = set(pd.read_csv('scrabble_words.txt', header=None)[0].to_list())\n",
    "valid_words_count = sum(1 for p in perms.index if ''.join(p) in scrabble_words)"
   ]
  },
  {
   "cell_type": "markdown",
   "id": "fcf068cf-381a-4b3e-ac3a-0510eb4dbdb0",
   "metadata": {},
   "source": [
    "Task 4. Repeat steps #2 and #3, this time with $5$ dice. How many actual words does this produce? Which produces more?\n",
    "\n",
    "- Successfully repreats steps (1).\n",
    "- Identifies parameter with most found words (1)."
   ]
  },
  {
   "cell_type": "code",
   "execution_count": 53,
   "id": "a29c7e39-b9c9-44f1-9107-1fb005c6a2b9",
   "metadata": {
    "tags": []
   },
   "outputs": [
    {
     "name": "stdout",
     "output_type": "stream",
     "text": [
      "Words with 4 dice: 60\n",
      "Words with 5 dice: 10\n"
     ]
    },
    {
     "data": {
      "image/png": "[encoded data removed]",
      "text/plain": [
       "<Figure size 640x480 with 1 Axes>"
      ]
     },
     "metadata": {},
     "output_type": "display_data"
    }
   ],
   "source": [
    "game6 = Game([alphabet_die, alphabet_die, alphabet_die, alphabet_die, alphabet_die])\n",
    "game6.play(1000)\n",
    "perms5 = Analyzer(game6).permutation_counts()\n",
    "valid_words_count_5 = sum(1 for p in perms5.index if ''.join(p) in scrabble_words)\n",
    "\n",
    "# Compare results\n",
    "print(f\"Words with 4 dice: {valid_words_count}\")\n",
    "print(f\"Words with 5 dice: {valid_words_count_5}\")\n",
    "\n",
    "# Plot comparison\n",
    "plt.bar(['4 Dice', '5 Dice'], [valid_words_count, valid_words_count_5], color=['purple', 'cyan'])\n",
    "plt.ylabel('Number of Valid Words')\n",
    "plt.title('Comparison of Words Found with 4 vs 5 Dice')\n",
    "plt.show()"
   ]
  },
  {
   "cell_type": "code",
   "execution_count": null,
   "id": "703e0363-255b-48cf-82cb-c48e20aba92b",
   "metadata": {},
   "outputs": [],
   "source": []
  }
 ],
 "metadata": {
  "kernelspec": {
   "display_name": "Python 3 (ipykernel)",
   "language": "python",
   "name": "python3"
  },
  "language_info": {
   "codemirror_mode": {
    "name": "ipython",
    "version": 3
   },
   "file_extension": ".py",
   "mimetype": "text/x-python",
   "name": "python",
   "nbconvert_exporter": "python",
   "pygments_lexer": "ipython3",
   "version": "3.11.4"
  },
  "toc-autonumbering": true,
  "widgets": {
   "application/vnd.jupyter.widget-state+json": {
    "state": {},
    "version_major": 2,
    "version_minor": 0
   }
  }
 },
 "nbformat": 4,
 "nbformat_minor": 5
}
